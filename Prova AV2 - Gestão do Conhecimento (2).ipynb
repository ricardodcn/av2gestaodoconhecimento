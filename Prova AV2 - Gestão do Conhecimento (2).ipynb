{
  "cells": [
    {
      "metadata": {},
      "cell_type": "markdown",
      "source": "DISCIPLINA: Gestão do Conhecimento\t PROFESSOR(A): Alex Salgado\nPERÍODO: 7o. TURNO: noite AVALIAÇÃO:\n\nALUNO(A): Ricardo de Carvalho Neves\n\nGRAU: VISTO DO PROFESSOR:\n"
    },
    {
      "metadata": {},
      "cell_type": "markdown",
      "source": "# Questão 1 - valor (1,0)\n"
    },
    {
      "metadata": {},
      "cell_type": "markdown",
      "source": "*** Crie um repositório no Github e adicione este arquivo no mesmo\n\n\n1.1 - Você deve escolher uma base de dados aberta que seja possível treinar um modelo de aprendizagem de máquina Supervisionado de Classificação (assim como o exemplo da Iris e Cancer). A partir desta base de dados, você vai treinar o modelo, fazer previsões e calcular a acurácia do mesmo.\nObs.: Não utilizar nenhuma base de dados usada em aula ou nos trabalhos.\nAs bases de dados não poderá ser igual a do seu colega, dessa forma, preencha a planilha abaixo dizendo a sua base e seu tema. \nhttps://forms.gle/CvmN5fr4u2g5zoZRA\n\n\n** Para saber se já escolheram o mesmo que você, consulte no link abaixo.\nhttps://docs.google.com/spreadsheets/d/1E_GuH7C8vn_o-gyOeN5LavoQlByjVQb1UiVfP71OX3g/edit?usp=sharing\n"
    },
    {
      "metadata": {
        "trusted": false
      },
      "cell_type": "code",
      "source": "",
      "execution_count": null,
      "outputs": []
    },
    {
      "metadata": {},
      "cell_type": "markdown",
      "source": "1.2 - Após tratada, criar uma pasta no seu GoogleDrive e disponibilizar o link do arquivo de sua base (csv, xlsx, etc) para ser importado no seu código."
    },
    {
      "metadata": {
        "trusted": false
      },
      "cell_type": "code",
      "source": "https://drive.google.com/open?id=1DPJ4uRm-pwESaOJ-sslhqHqSFetcTQz-",
      "execution_count": null,
      "outputs": []
    },
    {
      "metadata": {},
      "cell_type": "markdown",
      "source": "## Criar um código usando o Jupyter Notebook e responder (através de código) às seguintes questões:\n"
    },
    {
      "metadata": {},
      "cell_type": "markdown",
      "source": "# Questão 2 - valor (1,0)"
    },
    {
      "metadata": {},
      "cell_type": "markdown",
      "source": "2.1 - Importar os modulos python para machine learn e carregar o arquivo \n\n** Sugestão se for do tipo xlsx, usar o read_excel do pandas\nimport pandas as pd\ndt = pd.read_excel(\"meuarquivo.xlsx\")\n"
    },
    {
      "metadata": {
        "trusted": true
      },
      "cell_type": "code",
      "source": "import pandas as pd\n\n# read CSV file from the 'data' subdirectory using a relative path\ndata = pd.read_csv('https://vincentarelbundock.github.io/Rdatasets/csv/carData/Florida.csv', index_col=0)",
      "execution_count": 49,
      "outputs": []
    },
    {
      "metadata": {},
      "cell_type": "markdown",
      "source": "2.2 - Exibir os primeiros registros desta tabela.\n"
    },
    {
      "metadata": {
        "trusted": true
      },
      "cell_type": "code",
      "source": "data.head()\n",
      "execution_count": 50,
      "outputs": [
        {
          "output_type": "execute_result",
          "execution_count": 50,
          "data": {
            "text/html": "<div>\n<table border=\"1\" class=\"dataframe\">\n  <thead>\n    <tr style=\"text-align: right;\">\n      <th></th>\n      <th>GORE</th>\n      <th>BUSH</th>\n      <th>BUCHANAN</th>\n      <th>NADER</th>\n      <th>BROWNE</th>\n      <th>HAGELIN</th>\n      <th>HARRIS</th>\n      <th>MCREYNOLDS</th>\n      <th>MOOREHEAD</th>\n      <th>PHILLIPS</th>\n      <th>Total</th>\n    </tr>\n  </thead>\n  <tbody>\n    <tr>\n      <th>ALACHUA</th>\n      <td>47300</td>\n      <td>34062</td>\n      <td>262</td>\n      <td>3215</td>\n      <td>658</td>\n      <td>42</td>\n      <td>4</td>\n      <td>658</td>\n      <td>21</td>\n      <td>20</td>\n      <td>86242</td>\n    </tr>\n    <tr>\n      <th>BAKER</th>\n      <td>2392</td>\n      <td>5610</td>\n      <td>73</td>\n      <td>53</td>\n      <td>17</td>\n      <td>3</td>\n      <td>0</td>\n      <td>0</td>\n      <td>3</td>\n      <td>3</td>\n      <td>8154</td>\n    </tr>\n    <tr>\n      <th>BAY</th>\n      <td>18850</td>\n      <td>38637</td>\n      <td>248</td>\n      <td>828</td>\n      <td>171</td>\n      <td>18</td>\n      <td>5</td>\n      <td>3</td>\n      <td>37</td>\n      <td>18</td>\n      <td>58815</td>\n    </tr>\n    <tr>\n      <th>BRADFORD</th>\n      <td>3072</td>\n      <td>5413</td>\n      <td>65</td>\n      <td>84</td>\n      <td>28</td>\n      <td>2</td>\n      <td>0</td>\n      <td>0</td>\n      <td>3</td>\n      <td>2</td>\n      <td>8669</td>\n    </tr>\n    <tr>\n      <th>BREVARD</th>\n      <td>97318</td>\n      <td>115185</td>\n      <td>570</td>\n      <td>4470</td>\n      <td>643</td>\n      <td>39</td>\n      <td>11</td>\n      <td>11</td>\n      <td>76</td>\n      <td>72</td>\n      <td>218395</td>\n    </tr>\n  </tbody>\n</table>\n</div>",
            "text/plain": "           GORE    BUSH  BUCHANAN  NADER  BROWNE  HAGELIN  HARRIS  MCREYNOLDS  \\\nALACHUA   47300   34062       262   3215     658       42       4         658   \nBAKER      2392    5610        73     53      17        3       0           0   \nBAY       18850   38637       248    828     171       18       5           3   \nBRADFORD   3072    5413        65     84      28        2       0           0   \nBREVARD   97318  115185       570   4470     643       39      11          11   \n\n          MOOREHEAD  PHILLIPS   Total  \nALACHUA          21        20   86242  \nBAKER             3         3    8154  \nBAY              37        18   58815  \nBRADFORD          3         2    8669  \nBREVARD          76        72  218395  "
          },
          "metadata": {}
        }
      ]
    },
    {
      "metadata": {},
      "cell_type": "markdown",
      "source": "2.3 - De que se trata esse banco de dados? e que tipo de previsão pode ser feito com ele?\n"
    },
    {
      "metadata": {
        "trusted": true,
        "scrolled": true
      },
      "cell_type": "code",
      "source": "#É uma base de dados de numero de votos na flórida. O tipo de previsão é de classificação.",
      "execution_count": 51,
      "outputs": []
    },
    {
      "metadata": {},
      "cell_type": "markdown",
      "source": "# Questão 3 - valor (0,5)\n"
    },
    {
      "metadata": {},
      "cell_type": "markdown",
      "source": "Utilizando as terminologias de Machine Learning(features e observações):\n\n"
    },
    {
      "metadata": {},
      "cell_type": "markdown",
      "source": "3.1 - Quantas \"features\" têm nessa base de dados?"
    },
    {
      "metadata": {},
      "cell_type": "markdown",
      "source": " Possui 10 Features."
    },
    {
      "metadata": {
        "trusted": true
      },
      "cell_type": "code",
      "source": "# create a Python list of feature names\nfeature_cols = ['GORE','BUSH','BUCHANAN','NADER','BROWNE','HAGELIN','HARRIS','MCREYNOLDS','MOOREHEAD','PHILLIPS']\n\n# use the list to select a subset of the original DataFrame\nx = data[feature_cols]\n\n# equivalent command to do this in one line\nx = data[['GORE','BUSH','BUCHANAN','NADER','BROWNE','HAGELIN','HARRIS','MCREYNOLDS','MOOREHEAD','PHILLIPS']]\n\n# print the first 5 rows\nx.head()",
      "execution_count": 52,
      "outputs": [
        {
          "output_type": "execute_result",
          "execution_count": 52,
          "data": {
            "text/html": "<div>\n<table border=\"1\" class=\"dataframe\">\n  <thead>\n    <tr style=\"text-align: right;\">\n      <th></th>\n      <th>GORE</th>\n      <th>BUSH</th>\n      <th>BUCHANAN</th>\n      <th>NADER</th>\n      <th>BROWNE</th>\n      <th>HAGELIN</th>\n      <th>HARRIS</th>\n      <th>MCREYNOLDS</th>\n      <th>MOOREHEAD</th>\n      <th>PHILLIPS</th>\n    </tr>\n  </thead>\n  <tbody>\n    <tr>\n      <th>ALACHUA</th>\n      <td>47300</td>\n      <td>34062</td>\n      <td>262</td>\n      <td>3215</td>\n      <td>658</td>\n      <td>42</td>\n      <td>4</td>\n      <td>658</td>\n      <td>21</td>\n      <td>20</td>\n    </tr>\n    <tr>\n      <th>BAKER</th>\n      <td>2392</td>\n      <td>5610</td>\n      <td>73</td>\n      <td>53</td>\n      <td>17</td>\n      <td>3</td>\n      <td>0</td>\n      <td>0</td>\n      <td>3</td>\n      <td>3</td>\n    </tr>\n    <tr>\n      <th>BAY</th>\n      <td>18850</td>\n      <td>38637</td>\n      <td>248</td>\n      <td>828</td>\n      <td>171</td>\n      <td>18</td>\n      <td>5</td>\n      <td>3</td>\n      <td>37</td>\n      <td>18</td>\n    </tr>\n    <tr>\n      <th>BRADFORD</th>\n      <td>3072</td>\n      <td>5413</td>\n      <td>65</td>\n      <td>84</td>\n      <td>28</td>\n      <td>2</td>\n      <td>0</td>\n      <td>0</td>\n      <td>3</td>\n      <td>2</td>\n    </tr>\n    <tr>\n      <th>BREVARD</th>\n      <td>97318</td>\n      <td>115185</td>\n      <td>570</td>\n      <td>4470</td>\n      <td>643</td>\n      <td>39</td>\n      <td>11</td>\n      <td>11</td>\n      <td>76</td>\n      <td>72</td>\n    </tr>\n  </tbody>\n</table>\n</div>",
            "text/plain": "           GORE    BUSH  BUCHANAN  NADER  BROWNE  HAGELIN  HARRIS  MCREYNOLDS  \\\nALACHUA   47300   34062       262   3215     658       42       4         658   \nBAKER      2392    5610        73     53      17        3       0           0   \nBAY       18850   38637       248    828     171       18       5           3   \nBRADFORD   3072    5413        65     84      28        2       0           0   \nBREVARD   97318  115185       570   4470     643       39      11          11   \n\n          MOOREHEAD  PHILLIPS  \nALACHUA          21        20  \nBAKER             3         3  \nBAY              37        18  \nBRADFORD          3         2  \nBREVARD          76        72  "
          },
          "metadata": {}
        }
      ]
    },
    {
      "metadata": {
        "trusted": true
      },
      "cell_type": "code",
      "source": "# select a Series from the DataFrame\ny = data['Deaths']\n\n# equivalent command that works if there are no spaces in the column name\ny = data.Deaths\n\n# print the first 5 values\ny.head()",
      "execution_count": 36,
      "outputs": [
        {
          "output_type": "execute_result",
          "execution_count": 36,
          "data": {
            "text/plain": "Year\n2012     21\n2016     30\n2013     30\n2000     23\n2014    325\nName: Deaths, dtype: int64"
          },
          "metadata": {}
        }
      ]
    },
    {
      "metadata": {
        "trusted": true
      },
      "cell_type": "code",
      "source": "# select a Series from the DataFrame\ny = data['Total']\n\n# equivalent command that works if there are no spaces in the column name\ny = data.Total;\n\n# print the first 5 values\ny.head()",
      "execution_count": 53,
      "outputs": [
        {
          "output_type": "execute_result",
          "execution_count": 53,
          "data": {
            "text/plain": "ALACHUA      86242\nBAKER         8154\nBAY          58815\nBRADFORD      8669\nBREVARD     218395\nName: Total, dtype: int64"
          },
          "metadata": {}
        }
      ]
    },
    {
      "metadata": {},
      "cell_type": "markdown",
      "source": "3.2 - Quantas observações têm nessa base de dados?\n"
    },
    {
      "metadata": {},
      "cell_type": "markdown",
      "source": "10296 Observações."
    },
    {
      "metadata": {
        "trusted": true
      },
      "cell_type": "code",
      "source": "print(data.shape)",
      "execution_count": 25,
      "outputs": [
        {
          "output_type": "stream",
          "text": "(10296, 5)\n",
          "name": "stdout"
        }
      ]
    },
    {
      "metadata": {},
      "cell_type": "markdown",
      "source": "# Questão 4 - valor (1,5)\n"
    },
    {
      "metadata": {},
      "cell_type": "markdown",
      "source": "4.1 - Faça uma previsão, usando o algoritmo de LogisticRegression.\n"
    },
    {
      "metadata": {
        "trusted": true
      },
      "cell_type": "code",
      "source": "from sklearn.linear_model import LogisticRegression\nlogreg = LogisticRegression()\n# fit the model with data\nlogreg.fit(x,y)\nlogreg.predict(x)",
      "execution_count": 54,
      "outputs": [
        {
          "output_type": "execute_result",
          "execution_count": 54,
          "data": {
            "text/plain": "array([ 86242,   8154,  58815, 168195, 218395, 573306,   5174,  66885,\n        57154,  57360,  92122,  18508, 625269,   7807, 353331, 264428,\n       116680, 353331, 168195,  14549,   5395, 353331,   6132,   3973,\n       168195,   8133,  65219,  34941, 353331,   7343,  49616,  16300,\n       102634,   2504, 168195, 184377, 103113,  12730,   2403,   6159,\n       110209, 102634,  61852,  33878,  23782,  70605, 168195, 279981,\n        55658, 432286, 142713, 396938, 168195, 102634,  60674,  77989,\n        50285, 160940, 137044,  22258,  12461,   6801,   3794, 198230,\n       102634,  18307,   8026])"
          },
          "metadata": {}
        }
      ]
    },
    {
      "metadata": {},
      "cell_type": "markdown",
      "source": "# Questão 5 - valor (2,0)\n"
    },
    {
      "metadata": {},
      "cell_type": "markdown",
      "source": "Usando o método de avaliação de acurácia (Treinar e testar na base de dados inteira/Train test entire model), Calcular a acurácia de cada um dos 3 métodos abaixo."
    },
    {
      "metadata": {},
      "cell_type": "markdown",
      "source": "4.1 - Acurácia usando o algoritmo de KNN (com 1 vizinho, k=1)\n"
    },
    {
      "metadata": {
        "trusted": true
      },
      "cell_type": "code",
      "source": "from sklearn import metrics\nfrom sklearn.neighbors import KNeighborsClassifier\nknn = KNeighborsClassifier(n_neighbors=1)\nknn.fit(x, y)\ny_pred = knn.predict(x)\nprint(metrics.accuracy_score(y, y_pred))\n",
      "execution_count": 55,
      "outputs": [
        {
          "output_type": "stream",
          "text": "1.0\n",
          "name": "stdout"
        }
      ]
    },
    {
      "metadata": {},
      "cell_type": "markdown",
      "source": "4.2 - Acurácia usando o algoritmo de KNN (com 5 vizinho, k=5)\n"
    },
    {
      "metadata": {
        "trusted": true
      },
      "cell_type": "code",
      "source": "from sklearn.neighbors import KNeighborsClassifier\nknn = KNeighborsClassifier(n_neighbors=5)\nknn.fit(x, y)\ny_pred = knn.predict(x)\nprint(metrics.accuracy_score(y, y_pred))",
      "execution_count": 56,
      "outputs": [
        {
          "output_type": "stream",
          "text": "0.029850746268656716\n",
          "name": "stdout"
        }
      ]
    },
    {
      "metadata": {},
      "cell_type": "markdown",
      "source": "4.3 - Acurácia usando o algoritmo de LogisticRegression\n"
    },
    {
      "metadata": {
        "trusted": true
      },
      "cell_type": "code",
      "source": "from sklearn.model_selection import train_test_split\nx_train, x_test, y_train, y_test = train_test_split(x, y, test_size=0.4, random_state=4)\nlogreg = LogisticRegression()\nlogreg.fit(x_train, y_train)\n# STEP 3: make predictions on the testing set\ny_pred = logreg.predict(x_test)\n\n",
      "execution_count": 57,
      "outputs": []
    },
    {
      "metadata": {
        "trusted": true
      },
      "cell_type": "code",
      "source": "print(metrics.accuracy_score(y_test, y_pred))",
      "execution_count": 58,
      "outputs": [
        {
          "output_type": "stream",
          "text": "0.0\n",
          "name": "stdout"
        }
      ]
    },
    {
      "metadata": {},
      "cell_type": "markdown",
      "source": "4.4 - De acordo com seus resultados anteriores, qual dos 3 métodos é mais eficiente?\n"
    },
    {
      "metadata": {
        "trusted": false
      },
      "cell_type": "markdown",
      "source": "O método KNN (Com vizinho K=1)"
    },
    {
      "metadata": {
        "trusted": false
      },
      "cell_type": "code",
      "source": "*** Envie o link do seu Github com essa resposta no Classroom\n",
      "execution_count": null,
      "outputs": []
    }
  ],
  "metadata": {
    "kernelspec": {
      "name": "python3",
      "display_name": "Python 3",
      "language": "python"
    },
    "language_info": {
      "mimetype": "text/x-python",
      "nbconvert_exporter": "python",
      "name": "python",
      "file_extension": ".py",
      "version": "3.5.4",
      "pygments_lexer": "ipython3",
      "codemirror_mode": {
        "version": 3,
        "name": "ipython"
      }
    }
  },
  "nbformat": 4,
  "nbformat_minor": 2
}